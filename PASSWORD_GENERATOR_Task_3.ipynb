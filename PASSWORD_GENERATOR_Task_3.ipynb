{
  "nbformat": 4,
  "nbformat_minor": 0,
  "metadata": {
    "colab": {
      "provenance": [],
      "authorship_tag": "ABX9TyOQU7tpw+GtsgBfoTKY/C1g",
      "include_colab_link": true
    },
    "kernelspec": {
      "name": "python3",
      "display_name": "Python 3"
    },
    "language_info": {
      "name": "python"
    }
  },
  "cells": [
    {
      "cell_type": "markdown",
      "metadata": {
        "id": "view-in-github",
        "colab_type": "text"
      },
      "source": [
        "<a href=\"https://colab.research.google.com/github/prasadmallampati/CODSOFT_SEPT/blob/main/PASSWORD_GENERATOR_Task_3.ipynb\" target=\"_parent\"><img src=\"https://colab.research.google.com/assets/colab-badge.svg\" alt=\"Open In Colab\"/></a>"
      ]
    },
    {
      "cell_type": "markdown",
      "source": [
        "A password generator is a useful tool that generates strong and\n",
        "random passwords for users. This project aims to create a\n",
        "password generator application using Python, allowing users to\n",
        "\n",
        "specify the length and complexity of the password."
      ],
      "metadata": {
        "id": "UKyjVtvESFon"
      }
    },
    {
      "cell_type": "code",
      "source": [
        "import random\n",
        "import string"
      ],
      "metadata": {
        "id": "8OgeBkxpSHvY"
      },
      "execution_count": null,
      "outputs": []
    },
    {
      "cell_type": "code",
      "source": [
        "#fun for genarating passs\n",
        "def generate_password(length):\n",
        "    # Define the character set for the password (letters and digits &special char)\n",
        "    characters = string.ascii_letters + string.digits+string.punctuation #punctuation used for special character\n",
        "\n",
        "    # Generate the password\n",
        "    password = ''.join(random.choice(characters) for _ in range(length))\n",
        "    return password\n",
        "#main fun\n",
        "def main():\n",
        "    print(\"Welcome to the Password Generator!\")\n",
        "\n",
        "    # Get user input for the length of the password\n",
        "    length = int(input(\"Enter the length of the password: \"))\n",
        "\n",
        "    # Generate the password\n",
        "    password = generate_password(length)\n",
        "\n",
        "    # Print the generated password\n",
        "    print(f\"Generated Password: {password}\")\n",
        "#calling main fun\n",
        "if __name__ == \"__main__\":\n",
        "    main()\n"
      ],
      "metadata": {
        "colab": {
          "base_uri": "https://localhost:8080/"
        },
        "id": "i6KbZaO6SQWm",
        "outputId": "4fce9fdf-ef88-471e-b175-e2dcaae6b9aa"
      },
      "execution_count": null,
      "outputs": [
        {
          "output_type": "stream",
          "name": "stdout",
          "text": [
            "Welcome to the Password Generator!\n",
            "Enter the length of the password: 10\n",
            "Generated Password: 'G+@kA3;~*\n"
          ]
        }
      ]
    }
  ]
}