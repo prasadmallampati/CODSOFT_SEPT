{
  "cells": [
    {
      "cell_type": "markdown",
      "metadata": {
        "id": "view-in-github",
        "colab_type": "text"
      },
      "source": [
        "<a href=\"https://colab.research.google.com/github/prasadmallampati/CODSOFT_SEPT/blob/main/To_Do_List_Task_1.ipynb\" target=\"_parent\"><img src=\"https://colab.research.google.com/assets/colab-badge.svg\" alt=\"Open In Colab\"/></a>"
      ]
    },
    {
      "cell_type": "markdown",
      "metadata": {
        "id": "qRmHFsDInji8"
      },
      "source": [
        "#A to-do list in Python is a software application or program that helps users manage and organize their tasks and responsibilities. It allows users to create a list of tasks they need to complete, update task details, mark tasks as completed, and sometimes set deadlines or priorities for tasks. To-do list applications can be implemented in various ways, including command-line interfaces, graphical user interfaces (GUIs), web applications, and mobile apps."
      ]
    },
    {
      "cell_type": "code",
      "execution_count": null,
      "metadata": {
        "colab": {
          "base_uri": "https://localhost:8080/"
        },
        "id": "9fCZSZS-on-0",
        "outputId": "23f40cba-53a4-4c5c-f287-11737c65ccd4"
      },
      "outputs": [
        {
          "name": "stdout",
          "output_type": "stream",
          "text": [
            "\n",
            "1. Add task\n",
            "2. Show tasks\n",
            "3. Update task\n",
            "4. Mark task as completed\n",
            "5. Quit\n",
            "Enter your choice: 5\n"
          ]
        }
      ],
      "source": [
        "#creating ToDoList class\n",
        "class ToDoList:\n",
        "  #creating constructor\n",
        "    def __init__(self):\n",
        "        self.tasks = [] #creating empty list\n",
        "    #creating method for adding task to do list\n",
        "    def add_task(self, task):\n",
        "        self.tasks.append({\"task\": task, \"completed\": False})\n",
        "        print(\"Task added!\")\n",
        "    #display tasks\n",
        "    def show_tasks(self):\n",
        "        print(\"To-Do List:\")\n",
        "        for index, task in enumerate(self.tasks, start=1):\n",
        "            status = \" [X]\" if task[\"completed\"] else \" [ ]\"\n",
        "            print(f\"{index}. {task['task']}{status}\")\n",
        "    #updation method\n",
        "    def update_task(self, index, updated_task):\n",
        "        if 1 <= index <= len(self.tasks):\n",
        "            self.tasks[index - 1][\"task\"] = updated_task\n",
        "            print(\"Task updated!\")\n",
        "        else:\n",
        "            print(\"Invalid task index.\")\n",
        "    #completion method\n",
        "    def mark_completed(self, index):\n",
        "        if 1 <= index <= len(self.tasks):\n",
        "            self.tasks[index - 1][\"completed\"] = True\n",
        "            print(\"Task marked as completed!\")\n",
        "        else:\n",
        "            print(\"Invalid task index.\")\n",
        "    #like switch case here run method\n",
        "    def run(self):\n",
        "        #infinate loop for iteration\n",
        "        while True:\n",
        "            print(\"\\n1. Add task\\n2. Show tasks\\n3. Update task\\n4. Mark task as completed\\n5. Quit\")\n",
        "            choice = input(\"Enter your choice: \")\n",
        "\n",
        "            if choice == \"1\":\n",
        "                task = input(\"Enter task: \")\n",
        "                self.add_task(task)\n",
        "            elif choice == \"2\":\n",
        "                self.show_tasks()\n",
        "            elif choice == \"3\":\n",
        "                self.show_tasks()\n",
        "                index = int(input(\"Enter task index to update: \"))\n",
        "                updated_task = input(\"Enter updated task: \")\n",
        "                self.update_task(index, updated_task)\n",
        "            elif choice == \"4\":\n",
        "                self.show_tasks()\n",
        "                index = int(input(\"Enter task index to mark as completed: \"))\n",
        "                self.mark_completed(index)\n",
        "            elif choice == \"5\":\n",
        "                break\n",
        "            else:\n",
        "                print(\"Invalid choice. Please choose again.\")\n",
        "\n",
        "#creation mai\n",
        "if __name__ == \"__main__\":\n",
        "    todo_list = ToDoList()\n",
        "    todo_list.run()\n"
      ]
    },
    {
      "cell_type": "code",
      "execution_count": null,
      "metadata": {
        "id": "gMbd-trBtUtV"
      },
      "outputs": [],
      "source": []
    }
  ],
  "metadata": {
    "colab": {
      "provenance": [],
      "authorship_tag": "ABX9TyOdbtB+4lqgVW7AhljtjjQb",
      "include_colab_link": true
    },
    "kernelspec": {
      "display_name": "Python 3",
      "name": "python3"
    },
    "language_info": {
      "name": "python"
    }
  },
  "nbformat": 4,
  "nbformat_minor": 0
}